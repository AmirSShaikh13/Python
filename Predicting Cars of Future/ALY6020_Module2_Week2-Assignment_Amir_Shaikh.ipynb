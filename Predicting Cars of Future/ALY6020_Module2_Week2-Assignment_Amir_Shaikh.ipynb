{
 "cells": [
  {
   "cell_type": "code",
   "execution_count": 1,
   "id": "316220a9",
   "metadata": {},
   "outputs": [],
   "source": [
    "\n",
    "import numpy as np\n",
    "import pandas as pd\n",
    "import seaborn as sns\n",
    "import matplotlib.pyplot as plt\n",
    "from pandas.plotting import scatter_matrix"
   ]
  },
  {
   "cell_type": "code",
   "execution_count": 2,
   "id": "1ebf1c7d",
   "metadata": {},
   "outputs": [],
   "source": [
    "df = pd.read_csv(\"car.csv\")"
   ]
  },
  {
   "cell_type": "code",
   "execution_count": 3,
   "id": "d2204a20",
   "metadata": {},
   "outputs": [
    {
     "data": {
      "text/html": [
       "<div>\n",
       "<style scoped>\n",
       "    .dataframe tbody tr th:only-of-type {\n",
       "        vertical-align: middle;\n",
       "    }\n",
       "\n",
       "    .dataframe tbody tr th {\n",
       "        vertical-align: top;\n",
       "    }\n",
       "\n",
       "    .dataframe thead th {\n",
       "        text-align: right;\n",
       "    }\n",
       "</style>\n",
       "<table border=\"1\" class=\"dataframe\">\n",
       "  <thead>\n",
       "    <tr style=\"text-align: right;\">\n",
       "      <th></th>\n",
       "      <th>MPG</th>\n",
       "      <th>Cylinders</th>\n",
       "      <th>Displacement</th>\n",
       "      <th>Horsepower</th>\n",
       "      <th>Weight</th>\n",
       "      <th>Acceleration</th>\n",
       "      <th>Model Year</th>\n",
       "      <th>US Made</th>\n",
       "    </tr>\n",
       "  </thead>\n",
       "  <tbody>\n",
       "    <tr>\n",
       "      <th>0</th>\n",
       "      <td>18.0</td>\n",
       "      <td>8</td>\n",
       "      <td>307.0</td>\n",
       "      <td>130</td>\n",
       "      <td>3504</td>\n",
       "      <td>12.0</td>\n",
       "      <td>70</td>\n",
       "      <td>1</td>\n",
       "    </tr>\n",
       "    <tr>\n",
       "      <th>1</th>\n",
       "      <td>15.0</td>\n",
       "      <td>8</td>\n",
       "      <td>350.0</td>\n",
       "      <td>165</td>\n",
       "      <td>3693</td>\n",
       "      <td>11.5</td>\n",
       "      <td>70</td>\n",
       "      <td>1</td>\n",
       "    </tr>\n",
       "    <tr>\n",
       "      <th>2</th>\n",
       "      <td>18.0</td>\n",
       "      <td>8</td>\n",
       "      <td>318.0</td>\n",
       "      <td>150</td>\n",
       "      <td>3436</td>\n",
       "      <td>11.0</td>\n",
       "      <td>70</td>\n",
       "      <td>1</td>\n",
       "    </tr>\n",
       "    <tr>\n",
       "      <th>3</th>\n",
       "      <td>16.0</td>\n",
       "      <td>8</td>\n",
       "      <td>304.0</td>\n",
       "      <td>150</td>\n",
       "      <td>3433</td>\n",
       "      <td>12.0</td>\n",
       "      <td>70</td>\n",
       "      <td>1</td>\n",
       "    </tr>\n",
       "    <tr>\n",
       "      <th>4</th>\n",
       "      <td>17.0</td>\n",
       "      <td>8</td>\n",
       "      <td>302.0</td>\n",
       "      <td>140</td>\n",
       "      <td>3449</td>\n",
       "      <td>10.5</td>\n",
       "      <td>70</td>\n",
       "      <td>1</td>\n",
       "    </tr>\n",
       "  </tbody>\n",
       "</table>\n",
       "</div>"
      ],
      "text/plain": [
       "    MPG  Cylinders  Displacement Horsepower  Weight  Acceleration  Model Year  \\\n",
       "0  18.0          8         307.0        130    3504          12.0          70   \n",
       "1  15.0          8         350.0        165    3693          11.5          70   \n",
       "2  18.0          8         318.0        150    3436          11.0          70   \n",
       "3  16.0          8         304.0        150    3433          12.0          70   \n",
       "4  17.0          8         302.0        140    3449          10.5          70   \n",
       "\n",
       "   US Made  \n",
       "0        1  \n",
       "1        1  \n",
       "2        1  \n",
       "3        1  \n",
       "4        1  "
      ]
     },
     "execution_count": 3,
     "metadata": {},
     "output_type": "execute_result"
    }
   ],
   "source": [
    "df.head()"
   ]
  },
  {
   "cell_type": "code",
   "execution_count": 4,
   "id": "2d1e8b3c",
   "metadata": {},
   "outputs": [
    {
     "data": {
      "text/html": [
       "<div>\n",
       "<style scoped>\n",
       "    .dataframe tbody tr th:only-of-type {\n",
       "        vertical-align: middle;\n",
       "    }\n",
       "\n",
       "    .dataframe tbody tr th {\n",
       "        vertical-align: top;\n",
       "    }\n",
       "\n",
       "    .dataframe thead th {\n",
       "        text-align: right;\n",
       "    }\n",
       "</style>\n",
       "<table border=\"1\" class=\"dataframe\">\n",
       "  <thead>\n",
       "    <tr style=\"text-align: right;\">\n",
       "      <th></th>\n",
       "      <th>MPG</th>\n",
       "      <th>Cylinders</th>\n",
       "      <th>Displacement</th>\n",
       "      <th>Horsepower</th>\n",
       "      <th>Weight</th>\n",
       "      <th>Acceleration</th>\n",
       "      <th>Model Year</th>\n",
       "      <th>US Made</th>\n",
       "    </tr>\n",
       "  </thead>\n",
       "  <tbody>\n",
       "    <tr>\n",
       "      <th>393</th>\n",
       "      <td>27.0</td>\n",
       "      <td>4</td>\n",
       "      <td>140.0</td>\n",
       "      <td>86</td>\n",
       "      <td>2790</td>\n",
       "      <td>15.6</td>\n",
       "      <td>82</td>\n",
       "      <td>1</td>\n",
       "    </tr>\n",
       "    <tr>\n",
       "      <th>394</th>\n",
       "      <td>44.0</td>\n",
       "      <td>4</td>\n",
       "      <td>97.0</td>\n",
       "      <td>52</td>\n",
       "      <td>2130</td>\n",
       "      <td>24.6</td>\n",
       "      <td>82</td>\n",
       "      <td>0</td>\n",
       "    </tr>\n",
       "    <tr>\n",
       "      <th>395</th>\n",
       "      <td>32.0</td>\n",
       "      <td>4</td>\n",
       "      <td>135.0</td>\n",
       "      <td>84</td>\n",
       "      <td>2295</td>\n",
       "      <td>11.6</td>\n",
       "      <td>82</td>\n",
       "      <td>1</td>\n",
       "    </tr>\n",
       "    <tr>\n",
       "      <th>396</th>\n",
       "      <td>28.0</td>\n",
       "      <td>4</td>\n",
       "      <td>120.0</td>\n",
       "      <td>79</td>\n",
       "      <td>2625</td>\n",
       "      <td>18.6</td>\n",
       "      <td>82</td>\n",
       "      <td>1</td>\n",
       "    </tr>\n",
       "    <tr>\n",
       "      <th>397</th>\n",
       "      <td>31.0</td>\n",
       "      <td>4</td>\n",
       "      <td>119.0</td>\n",
       "      <td>82</td>\n",
       "      <td>2720</td>\n",
       "      <td>19.4</td>\n",
       "      <td>82</td>\n",
       "      <td>1</td>\n",
       "    </tr>\n",
       "  </tbody>\n",
       "</table>\n",
       "</div>"
      ],
      "text/plain": [
       "      MPG  Cylinders  Displacement Horsepower  Weight  Acceleration  \\\n",
       "393  27.0          4         140.0         86    2790          15.6   \n",
       "394  44.0          4          97.0         52    2130          24.6   \n",
       "395  32.0          4         135.0         84    2295          11.6   \n",
       "396  28.0          4         120.0         79    2625          18.6   \n",
       "397  31.0          4         119.0         82    2720          19.4   \n",
       "\n",
       "     Model Year  US Made  \n",
       "393          82        1  \n",
       "394          82        0  \n",
       "395          82        1  \n",
       "396          82        1  \n",
       "397          82        1  "
      ]
     },
     "execution_count": 4,
     "metadata": {},
     "output_type": "execute_result"
    }
   ],
   "source": [
    "df.tail()"
   ]
  },
  {
   "cell_type": "code",
   "execution_count": 5,
   "id": "b28a1d9b",
   "metadata": {},
   "outputs": [
    {
     "name": "stdout",
     "output_type": "stream",
     "text": [
      "<class 'pandas.core.frame.DataFrame'>\n",
      "RangeIndex: 398 entries, 0 to 397\n",
      "Data columns (total 8 columns):\n",
      " #   Column        Non-Null Count  Dtype  \n",
      "---  ------        --------------  -----  \n",
      " 0   MPG           398 non-null    float64\n",
      " 1   Cylinders     398 non-null    int64  \n",
      " 2   Displacement  398 non-null    float64\n",
      " 3   Horsepower    398 non-null    object \n",
      " 4   Weight        398 non-null    int64  \n",
      " 5   Acceleration  398 non-null    float64\n",
      " 6   Model Year    398 non-null    int64  \n",
      " 7   US Made       398 non-null    int64  \n",
      "dtypes: float64(3), int64(4), object(1)\n",
      "memory usage: 25.0+ KB\n"
     ]
    }
   ],
   "source": [
    "df.info()"
   ]
  },
  {
   "cell_type": "code",
   "execution_count": 6,
   "id": "4190c7b3",
   "metadata": {},
   "outputs": [
    {
     "data": {
      "text/html": [
       "<div>\n",
       "<style scoped>\n",
       "    .dataframe tbody tr th:only-of-type {\n",
       "        vertical-align: middle;\n",
       "    }\n",
       "\n",
       "    .dataframe tbody tr th {\n",
       "        vertical-align: top;\n",
       "    }\n",
       "\n",
       "    .dataframe thead th {\n",
       "        text-align: right;\n",
       "    }\n",
       "</style>\n",
       "<table border=\"1\" class=\"dataframe\">\n",
       "  <thead>\n",
       "    <tr style=\"text-align: right;\">\n",
       "      <th></th>\n",
       "      <th>MPG</th>\n",
       "      <th>Cylinders</th>\n",
       "      <th>Displacement</th>\n",
       "      <th>Weight</th>\n",
       "      <th>Acceleration</th>\n",
       "      <th>Model Year</th>\n",
       "      <th>US Made</th>\n",
       "    </tr>\n",
       "  </thead>\n",
       "  <tbody>\n",
       "    <tr>\n",
       "      <th>count</th>\n",
       "      <td>398.000000</td>\n",
       "      <td>398.000000</td>\n",
       "      <td>398.000000</td>\n",
       "      <td>398.000000</td>\n",
       "      <td>398.000000</td>\n",
       "      <td>398.000000</td>\n",
       "      <td>398.000000</td>\n",
       "    </tr>\n",
       "    <tr>\n",
       "      <th>mean</th>\n",
       "      <td>23.514573</td>\n",
       "      <td>5.454774</td>\n",
       "      <td>193.425879</td>\n",
       "      <td>2970.424623</td>\n",
       "      <td>15.568090</td>\n",
       "      <td>76.010050</td>\n",
       "      <td>0.625628</td>\n",
       "    </tr>\n",
       "    <tr>\n",
       "      <th>std</th>\n",
       "      <td>7.815984</td>\n",
       "      <td>1.701004</td>\n",
       "      <td>104.269838</td>\n",
       "      <td>846.841774</td>\n",
       "      <td>2.757689</td>\n",
       "      <td>3.697627</td>\n",
       "      <td>0.484569</td>\n",
       "    </tr>\n",
       "    <tr>\n",
       "      <th>min</th>\n",
       "      <td>9.000000</td>\n",
       "      <td>3.000000</td>\n",
       "      <td>68.000000</td>\n",
       "      <td>1613.000000</td>\n",
       "      <td>8.000000</td>\n",
       "      <td>70.000000</td>\n",
       "      <td>0.000000</td>\n",
       "    </tr>\n",
       "    <tr>\n",
       "      <th>25%</th>\n",
       "      <td>17.500000</td>\n",
       "      <td>4.000000</td>\n",
       "      <td>104.250000</td>\n",
       "      <td>2223.750000</td>\n",
       "      <td>13.825000</td>\n",
       "      <td>73.000000</td>\n",
       "      <td>0.000000</td>\n",
       "    </tr>\n",
       "    <tr>\n",
       "      <th>50%</th>\n",
       "      <td>23.000000</td>\n",
       "      <td>4.000000</td>\n",
       "      <td>148.500000</td>\n",
       "      <td>2803.500000</td>\n",
       "      <td>15.500000</td>\n",
       "      <td>76.000000</td>\n",
       "      <td>1.000000</td>\n",
       "    </tr>\n",
       "    <tr>\n",
       "      <th>75%</th>\n",
       "      <td>29.000000</td>\n",
       "      <td>8.000000</td>\n",
       "      <td>262.000000</td>\n",
       "      <td>3608.000000</td>\n",
       "      <td>17.175000</td>\n",
       "      <td>79.000000</td>\n",
       "      <td>1.000000</td>\n",
       "    </tr>\n",
       "    <tr>\n",
       "      <th>max</th>\n",
       "      <td>46.600000</td>\n",
       "      <td>8.000000</td>\n",
       "      <td>455.000000</td>\n",
       "      <td>5140.000000</td>\n",
       "      <td>24.800000</td>\n",
       "      <td>82.000000</td>\n",
       "      <td>1.000000</td>\n",
       "    </tr>\n",
       "  </tbody>\n",
       "</table>\n",
       "</div>"
      ],
      "text/plain": [
       "              MPG   Cylinders  Displacement       Weight  Acceleration  \\\n",
       "count  398.000000  398.000000    398.000000   398.000000    398.000000   \n",
       "mean    23.514573    5.454774    193.425879  2970.424623     15.568090   \n",
       "std      7.815984    1.701004    104.269838   846.841774      2.757689   \n",
       "min      9.000000    3.000000     68.000000  1613.000000      8.000000   \n",
       "25%     17.500000    4.000000    104.250000  2223.750000     13.825000   \n",
       "50%     23.000000    4.000000    148.500000  2803.500000     15.500000   \n",
       "75%     29.000000    8.000000    262.000000  3608.000000     17.175000   \n",
       "max     46.600000    8.000000    455.000000  5140.000000     24.800000   \n",
       "\n",
       "       Model Year     US Made  \n",
       "count  398.000000  398.000000  \n",
       "mean    76.010050    0.625628  \n",
       "std      3.697627    0.484569  \n",
       "min     70.000000    0.000000  \n",
       "25%     73.000000    0.000000  \n",
       "50%     76.000000    1.000000  \n",
       "75%     79.000000    1.000000  \n",
       "max     82.000000    1.000000  "
      ]
     },
     "execution_count": 6,
     "metadata": {},
     "output_type": "execute_result"
    }
   ],
   "source": [
    "df.describe()"
   ]
  },
  {
   "cell_type": "code",
   "execution_count": 8,
   "id": "d1660e11",
   "metadata": {},
   "outputs": [
    {
     "data": {
      "text/plain": [
       "MPG             float64\n",
       "Cylinders         int64\n",
       "Displacement    float64\n",
       "Horsepower       object\n",
       "Weight            int64\n",
       "Acceleration    float64\n",
       "Model Year        int64\n",
       "US Made           int64\n",
       "dtype: object"
      ]
     },
     "execution_count": 8,
     "metadata": {},
     "output_type": "execute_result"
    }
   ],
   "source": [
    "df.dtypes"
   ]
  },
  {
   "cell_type": "code",
   "execution_count": 9,
   "id": "e8a23cdd",
   "metadata": {},
   "outputs": [
    {
     "data": {
      "text/plain": [
       "MPG             0\n",
       "Cylinders       0\n",
       "Displacement    0\n",
       "Horsepower      0\n",
       "Weight          0\n",
       "Acceleration    0\n",
       "Model Year      0\n",
       "US Made         0\n",
       "dtype: int64"
      ]
     },
     "execution_count": 9,
     "metadata": {},
     "output_type": "execute_result"
    }
   ],
   "source": [
    "df.isnull().sum()"
   ]
  },
  {
   "cell_type": "code",
   "execution_count": 10,
   "id": "14e93539",
   "metadata": {},
   "outputs": [
    {
     "data": {
      "text/plain": [
       "array([False, False, False, False, False, False, False, False])"
      ]
     },
     "execution_count": 10,
     "metadata": {},
     "output_type": "execute_result"
    }
   ],
   "source": [
    "df.columns.isna()"
   ]
  },
  {
   "cell_type": "code",
   "execution_count": 11,
   "id": "a0487d25",
   "metadata": {},
   "outputs": [
    {
     "data": {
      "text/plain": [
       "MPG             0\n",
       "Cylinders       0\n",
       "Displacement    0\n",
       "Horsepower      6\n",
       "Weight          0\n",
       "Acceleration    0\n",
       "Model Year      0\n",
       "US Made         0\n",
       "dtype: int64"
      ]
     },
     "execution_count": 11,
     "metadata": {},
     "output_type": "execute_result"
    }
   ],
   "source": [
    "df.isin(['?']).sum()"
   ]
  },
  {
   "cell_type": "code",
   "execution_count": 12,
   "id": "5ef114da",
   "metadata": {},
   "outputs": [],
   "source": [
    "df['Horsepower']=df['Horsepower'].replace('?',np.nan)"
   ]
  },
  {
   "cell_type": "code",
   "execution_count": 13,
   "id": "8f077219",
   "metadata": {},
   "outputs": [
    {
     "data": {
      "text/plain": [
       "MPG             0\n",
       "Cylinders       0\n",
       "Displacement    0\n",
       "Horsepower      6\n",
       "Weight          0\n",
       "Acceleration    0\n",
       "Model Year      0\n",
       "US Made         0\n",
       "dtype: int64"
      ]
     },
     "execution_count": 13,
     "metadata": {},
     "output_type": "execute_result"
    }
   ],
   "source": [
    "df.isnull().sum()"
   ]
  },
  {
   "cell_type": "code",
   "execution_count": 16,
   "id": "6adc1db7",
   "metadata": {},
   "outputs": [],
   "source": [
    "df['Horsepower']=df['Horsepower'].fillna(df['Horsepower'].median())"
   ]
  },
  {
   "cell_type": "code",
   "execution_count": 17,
   "id": "74ae1edd",
   "metadata": {},
   "outputs": [
    {
     "data": {
      "text/plain": [
       "MPG             0\n",
       "Cylinders       0\n",
       "Displacement    0\n",
       "Horsepower      0\n",
       "Weight          0\n",
       "Acceleration    0\n",
       "Model Year      0\n",
       "US Made         0\n",
       "dtype: int64"
      ]
     },
     "execution_count": 17,
     "metadata": {},
     "output_type": "execute_result"
    }
   ],
   "source": [
    "df.isnull().sum()"
   ]
  },
  {
   "cell_type": "code",
   "execution_count": 18,
   "id": "bbd536f5",
   "metadata": {},
   "outputs": [
    {
     "data": {
      "text/plain": [
       "MPG             0\n",
       "Cylinders       0\n",
       "Displacement    0\n",
       "Horsepower      0\n",
       "Weight          0\n",
       "Acceleration    0\n",
       "Model Year      0\n",
       "US Made         0\n",
       "dtype: int64"
      ]
     },
     "execution_count": 18,
     "metadata": {},
     "output_type": "execute_result"
    }
   ],
   "source": [
    "df.isna().sum()"
   ]
  },
  {
   "cell_type": "code",
   "execution_count": 19,
   "id": "2732eb36",
   "metadata": {},
   "outputs": [
    {
     "name": "stdout",
     "output_type": "stream",
     "text": [
      "<class 'pandas.core.frame.DataFrame'>\n",
      "RangeIndex: 398 entries, 0 to 397\n",
      "Data columns (total 8 columns):\n",
      " #   Column        Non-Null Count  Dtype  \n",
      "---  ------        --------------  -----  \n",
      " 0   MPG           398 non-null    float64\n",
      " 1   Cylinders     398 non-null    int64  \n",
      " 2   Displacement  398 non-null    float64\n",
      " 3   Horsepower    398 non-null    object \n",
      " 4   Weight        398 non-null    int64  \n",
      " 5   Acceleration  398 non-null    float64\n",
      " 6   Model Year    398 non-null    int64  \n",
      " 7   US Made       398 non-null    int64  \n",
      "dtypes: float64(3), int64(4), object(1)\n",
      "memory usage: 25.0+ KB\n"
     ]
    }
   ],
   "source": [
    "df.info()"
   ]
  },
  {
   "cell_type": "code",
   "execution_count": 20,
   "id": "b316afd5",
   "metadata": {},
   "outputs": [],
   "source": [
    "df['Horsepower']=df['Horsepower'].astype('float64')"
   ]
  },
  {
   "cell_type": "code",
   "execution_count": 21,
   "id": "62c632ae",
   "metadata": {},
   "outputs": [
    {
     "name": "stdout",
     "output_type": "stream",
     "text": [
      "<class 'pandas.core.frame.DataFrame'>\n",
      "RangeIndex: 398 entries, 0 to 397\n",
      "Data columns (total 8 columns):\n",
      " #   Column        Non-Null Count  Dtype  \n",
      "---  ------        --------------  -----  \n",
      " 0   MPG           398 non-null    float64\n",
      " 1   Cylinders     398 non-null    int64  \n",
      " 2   Displacement  398 non-null    float64\n",
      " 3   Horsepower    398 non-null    float64\n",
      " 4   Weight        398 non-null    int64  \n",
      " 5   Acceleration  398 non-null    float64\n",
      " 6   Model Year    398 non-null    int64  \n",
      " 7   US Made       398 non-null    int64  \n",
      "dtypes: float64(4), int64(4)\n",
      "memory usage: 25.0 KB\n"
     ]
    }
   ],
   "source": [
    "df.info()"
   ]
  },
  {
   "cell_type": "code",
   "execution_count": 22,
   "id": "127596bf",
   "metadata": {},
   "outputs": [
    {
     "data": {
      "text/html": [
       "<div>\n",
       "<style scoped>\n",
       "    .dataframe tbody tr th:only-of-type {\n",
       "        vertical-align: middle;\n",
       "    }\n",
       "\n",
       "    .dataframe tbody tr th {\n",
       "        vertical-align: top;\n",
       "    }\n",
       "\n",
       "    .dataframe thead th {\n",
       "        text-align: right;\n",
       "    }\n",
       "</style>\n",
       "<table border=\"1\" class=\"dataframe\">\n",
       "  <thead>\n",
       "    <tr style=\"text-align: right;\">\n",
       "      <th></th>\n",
       "      <th>count</th>\n",
       "      <th>mean</th>\n",
       "      <th>std</th>\n",
       "      <th>min</th>\n",
       "      <th>25%</th>\n",
       "      <th>50%</th>\n",
       "      <th>75%</th>\n",
       "      <th>max</th>\n",
       "    </tr>\n",
       "  </thead>\n",
       "  <tbody>\n",
       "    <tr>\n",
       "      <th>MPG</th>\n",
       "      <td>398.0</td>\n",
       "      <td>23.514573</td>\n",
       "      <td>7.815984</td>\n",
       "      <td>9.0</td>\n",
       "      <td>17.500</td>\n",
       "      <td>23.0</td>\n",
       "      <td>29.000</td>\n",
       "      <td>46.6</td>\n",
       "    </tr>\n",
       "    <tr>\n",
       "      <th>Cylinders</th>\n",
       "      <td>398.0</td>\n",
       "      <td>5.454774</td>\n",
       "      <td>1.701004</td>\n",
       "      <td>3.0</td>\n",
       "      <td>4.000</td>\n",
       "      <td>4.0</td>\n",
       "      <td>8.000</td>\n",
       "      <td>8.0</td>\n",
       "    </tr>\n",
       "    <tr>\n",
       "      <th>Displacement</th>\n",
       "      <td>398.0</td>\n",
       "      <td>193.425879</td>\n",
       "      <td>104.269838</td>\n",
       "      <td>68.0</td>\n",
       "      <td>104.250</td>\n",
       "      <td>148.5</td>\n",
       "      <td>262.000</td>\n",
       "      <td>455.0</td>\n",
       "    </tr>\n",
       "    <tr>\n",
       "      <th>Horsepower</th>\n",
       "      <td>398.0</td>\n",
       "      <td>104.304020</td>\n",
       "      <td>38.222625</td>\n",
       "      <td>46.0</td>\n",
       "      <td>76.000</td>\n",
       "      <td>93.5</td>\n",
       "      <td>125.000</td>\n",
       "      <td>230.0</td>\n",
       "    </tr>\n",
       "    <tr>\n",
       "      <th>Weight</th>\n",
       "      <td>398.0</td>\n",
       "      <td>2970.424623</td>\n",
       "      <td>846.841774</td>\n",
       "      <td>1613.0</td>\n",
       "      <td>2223.750</td>\n",
       "      <td>2803.5</td>\n",
       "      <td>3608.000</td>\n",
       "      <td>5140.0</td>\n",
       "    </tr>\n",
       "    <tr>\n",
       "      <th>Acceleration</th>\n",
       "      <td>398.0</td>\n",
       "      <td>15.568090</td>\n",
       "      <td>2.757689</td>\n",
       "      <td>8.0</td>\n",
       "      <td>13.825</td>\n",
       "      <td>15.5</td>\n",
       "      <td>17.175</td>\n",
       "      <td>24.8</td>\n",
       "    </tr>\n",
       "    <tr>\n",
       "      <th>Model Year</th>\n",
       "      <td>398.0</td>\n",
       "      <td>76.010050</td>\n",
       "      <td>3.697627</td>\n",
       "      <td>70.0</td>\n",
       "      <td>73.000</td>\n",
       "      <td>76.0</td>\n",
       "      <td>79.000</td>\n",
       "      <td>82.0</td>\n",
       "    </tr>\n",
       "    <tr>\n",
       "      <th>US Made</th>\n",
       "      <td>398.0</td>\n",
       "      <td>0.625628</td>\n",
       "      <td>0.484569</td>\n",
       "      <td>0.0</td>\n",
       "      <td>0.000</td>\n",
       "      <td>1.0</td>\n",
       "      <td>1.000</td>\n",
       "      <td>1.0</td>\n",
       "    </tr>\n",
       "  </tbody>\n",
       "</table>\n",
       "</div>"
      ],
      "text/plain": [
       "              count         mean         std     min       25%     50%  \\\n",
       "MPG           398.0    23.514573    7.815984     9.0    17.500    23.0   \n",
       "Cylinders     398.0     5.454774    1.701004     3.0     4.000     4.0   \n",
       "Displacement  398.0   193.425879  104.269838    68.0   104.250   148.5   \n",
       "Horsepower    398.0   104.304020   38.222625    46.0    76.000    93.5   \n",
       "Weight        398.0  2970.424623  846.841774  1613.0  2223.750  2803.5   \n",
       "Acceleration  398.0    15.568090    2.757689     8.0    13.825    15.5   \n",
       "Model Year    398.0    76.010050    3.697627    70.0    73.000    76.0   \n",
       "US Made       398.0     0.625628    0.484569     0.0     0.000     1.0   \n",
       "\n",
       "                   75%     max  \n",
       "MPG             29.000    46.6  \n",
       "Cylinders        8.000     8.0  \n",
       "Displacement   262.000   455.0  \n",
       "Horsepower     125.000   230.0  \n",
       "Weight        3608.000  5140.0  \n",
       "Acceleration    17.175    24.8  \n",
       "Model Year      79.000    82.0  \n",
       "US Made          1.000     1.0  "
      ]
     },
     "execution_count": 22,
     "metadata": {},
     "output_type": "execute_result"
    }
   ],
   "source": [
    "df.describe().transpose()"
   ]
  },
  {
   "cell_type": "code",
   "execution_count": 62,
   "id": "1b80070b",
   "metadata": {},
   "outputs": [
    {
     "name": "stderr",
     "output_type": "stream",
     "text": [
      "/opt/anaconda3/lib/python3.9/site-packages/seaborn/distributions.py:2619: FutureWarning: `distplot` is a deprecated function and will be removed in a future version. Please adapt your code to use either `displot` (a figure-level function with similar flexibility) or `histplot` (an axes-level function for histograms).\n",
      "  warnings.warn(msg, FutureWarning)\n"
     ]
    },
    {
     "data": {
      "text/plain": [
       "<AxesSubplot:xlabel='MPG', ylabel='Density'>"
      ]
     },
     "execution_count": 62,
     "metadata": {},
     "output_type": "execute_result"
    },
    {
     "data": {
      "image/png": "[encoded data removed]",
      "text/plain": [
       "<Figure size 432x288 with 1 Axes>"
      ]
     },
     "metadata": {
      "needs_background": "light"
     },
     "output_type": "display_data"
    }
   ],
   "source": [
    "sns.distplot(df['MPG'])"
   ]
  },
  {
   "cell_type": "code",
   "execution_count": 56,
   "id": "0371fca5",
   "metadata": {},
   "outputs": [
    {
     "data": {
      "image/png": "[encoded data removed]",
      "text/plain": [
       "<Figure size 864x576 with 9 Axes>"
      ]
     },
     "metadata": {
      "needs_background": "light"
     },
     "output_type": "display_data"
    }
   ],
   "source": [
    "df.hist(figsize=(12,8),bins=20)\n",
    "plt.show()"
   ]
  },
  {
   "cell_type": "code",
   "execution_count": 57,
   "id": "c99cc476",
   "metadata": {},
   "outputs": [
    {
     "data": {
      "text/plain": [
       "<AxesSubplot:xlabel='Model Year', ylabel='MPG'>"
      ]
     },
     "execution_count": 57,
     "metadata": {},
     "output_type": "execute_result"
    },
    {
     "data": {
      "image/png": "[encoded data removed]",
      "text/plain": [
       "<Figure size 432x288 with 1 Axes>"
      ]
     },
     "metadata": {
      "needs_background": "light"
     },
     "output_type": "display_data"
    }
   ],
   "source": [
    "sns.boxplot(x='Model Year', y='MPG', data=df)"
   ]
  },
  {
   "cell_type": "code",
   "execution_count": 58,
   "id": "b4fb383a",
   "metadata": {},
   "outputs": [
    {
     "data": {
      "text/plain": [
       "<seaborn.axisgrid.FacetGrid at 0x7ff18f13f970>"
      ]
     },
     "execution_count": 58,
     "metadata": {},
     "output_type": "execute_result"
    },
    {
     "data": {
      "image/png": "[encoded data removed]",
      "text/plain": [
       "<Figure size 1088x216 with 5 Axes>"
      ]
     },
     "metadata": {
      "needs_background": "light"
     },
     "output_type": "display_data"
    }
   ],
   "source": [
    "g = sns.FacetGrid(data=df, col='Cylinders')\n",
    "g.map(plt.scatter, 'MPG','Acceleration').add_legend()"
   ]
  },
  {
   "cell_type": "code",
   "execution_count": 59,
   "id": "11c09699",
   "metadata": {},
   "outputs": [
    {
     "data": {
      "text/plain": [
       "<AxesSubplot:>"
      ]
     },
     "execution_count": 59,
     "metadata": {},
     "output_type": "execute_result"
    },
    {
     "data": {
      "image/png": "[encoded data removed]",
      "text/plain": [
       "<Figure size 432x288 with 2 Axes>"
      ]
     },
     "metadata": {
      "needs_background": "light"
     },
     "output_type": "display_data"
    }
   ],
   "source": [
    "corrmatrix = df.corr()\n",
    "sns.heatmap(corrmatrix, square=True)"
   ]
  },
  {
   "cell_type": "code",
   "execution_count": 28,
   "id": "c3618341",
   "metadata": {},
   "outputs": [],
   "source": [
    "df['Horsepower']=df['Horsepower'].clip(lower=df['Horsepower'].quantile(0.05), upper=df['Horsepower'].quantile(0.95))\n",
    "df['Acceleration']=df['Acceleration'].clip(lower=df['Acceleration'].quantile(0.05), upper=df['Acceleration'].quantile(0.95))"
   ]
  },
  {
   "cell_type": "code",
   "execution_count": 61,
   "id": "5342a509",
   "metadata": {},
   "outputs": [
    {
     "name": "stderr",
     "output_type": "stream",
     "text": [
      "/opt/anaconda3/lib/python3.9/site-packages/seaborn/_decorators.py:36: FutureWarning: Pass the following variable as a keyword arg: x. From version 0.12, the only valid positional argument will be `data`, and passing other arguments without an explicit keyword will result in an error or misinterpretation.\n",
      "  warnings.warn(\n"
     ]
    },
    {
     "data": {
      "text/plain": [
       "<AxesSubplot:xlabel='Horsepower'>"
      ]
     },
     "execution_count": 61,
     "metadata": {},
     "output_type": "execute_result"
    },
    {
     "data": {
      "image/png": "[encoded data removed]",
      "text/plain": [
       "<Figure size 432x288 with 1 Axes>"
      ]
     },
     "metadata": {
      "needs_background": "light"
     },
     "output_type": "display_data"
    }
   ],
   "source": [
    "sns.boxplot(df['Horsepower'],color='lightblue')"
   ]
  },
  {
   "cell_type": "code",
   "execution_count": 31,
   "id": "58e6cd2f",
   "metadata": {},
   "outputs": [
    {
     "data": {
      "text/html": [
       "<div>\n",
       "<style scoped>\n",
       "    .dataframe tbody tr th:only-of-type {\n",
       "        vertical-align: middle;\n",
       "    }\n",
       "\n",
       "    .dataframe tbody tr th {\n",
       "        vertical-align: top;\n",
       "    }\n",
       "\n",
       "    .dataframe thead th {\n",
       "        text-align: right;\n",
       "    }\n",
       "</style>\n",
       "<table border=\"1\" class=\"dataframe\">\n",
       "  <thead>\n",
       "    <tr style=\"text-align: right;\">\n",
       "      <th></th>\n",
       "      <th>MPG</th>\n",
       "      <th>Cylinders</th>\n",
       "      <th>Displacement</th>\n",
       "      <th>Horsepower</th>\n",
       "      <th>Weight</th>\n",
       "      <th>Acceleration</th>\n",
       "      <th>Model Year</th>\n",
       "      <th>US Made</th>\n",
       "    </tr>\n",
       "  </thead>\n",
       "  <tbody>\n",
       "    <tr>\n",
       "      <th>MPG</th>\n",
       "      <td>1.000000</td>\n",
       "      <td>-0.775396</td>\n",
       "      <td>-0.804203</td>\n",
       "      <td>-0.792918</td>\n",
       "      <td>-0.831741</td>\n",
       "      <td>0.413128</td>\n",
       "      <td>0.579267</td>\n",
       "      <td>-0.568192</td>\n",
       "    </tr>\n",
       "    <tr>\n",
       "      <th>Cylinders</th>\n",
       "      <td>-0.775396</td>\n",
       "      <td>1.000000</td>\n",
       "      <td>0.950721</td>\n",
       "      <td>0.867813</td>\n",
       "      <td>0.896017</td>\n",
       "      <td>-0.510533</td>\n",
       "      <td>-0.348746</td>\n",
       "      <td>0.604351</td>\n",
       "    </tr>\n",
       "    <tr>\n",
       "      <th>Displacement</th>\n",
       "      <td>-0.804203</td>\n",
       "      <td>0.950721</td>\n",
       "      <td>1.000000</td>\n",
       "      <td>0.904191</td>\n",
       "      <td>0.932824</td>\n",
       "      <td>-0.540627</td>\n",
       "      <td>-0.370164</td>\n",
       "      <td>0.651407</td>\n",
       "    </tr>\n",
       "    <tr>\n",
       "      <th>Horsepower</th>\n",
       "      <td>-0.792918</td>\n",
       "      <td>0.867813</td>\n",
       "      <td>0.904191</td>\n",
       "      <td>1.000000</td>\n",
       "      <td>0.881944</td>\n",
       "      <td>-0.683607</td>\n",
       "      <td>-0.411420</td>\n",
       "      <td>0.496803</td>\n",
       "    </tr>\n",
       "    <tr>\n",
       "      <th>Weight</th>\n",
       "      <td>-0.831741</td>\n",
       "      <td>0.896017</td>\n",
       "      <td>0.932824</td>\n",
       "      <td>0.881944</td>\n",
       "      <td>1.000000</td>\n",
       "      <td>-0.425769</td>\n",
       "      <td>-0.306564</td>\n",
       "      <td>0.598398</td>\n",
       "    </tr>\n",
       "    <tr>\n",
       "      <th>Acceleration</th>\n",
       "      <td>0.413128</td>\n",
       "      <td>-0.510533</td>\n",
       "      <td>-0.540627</td>\n",
       "      <td>-0.683607</td>\n",
       "      <td>-0.425769</td>\n",
       "      <td>1.000000</td>\n",
       "      <td>0.272241</td>\n",
       "      <td>-0.239639</td>\n",
       "    </tr>\n",
       "    <tr>\n",
       "      <th>Model Year</th>\n",
       "      <td>0.579267</td>\n",
       "      <td>-0.348746</td>\n",
       "      <td>-0.370164</td>\n",
       "      <td>-0.411420</td>\n",
       "      <td>-0.306564</td>\n",
       "      <td>0.272241</td>\n",
       "      <td>1.000000</td>\n",
       "      <td>-0.139883</td>\n",
       "    </tr>\n",
       "    <tr>\n",
       "      <th>US Made</th>\n",
       "      <td>-0.568192</td>\n",
       "      <td>0.604351</td>\n",
       "      <td>0.651407</td>\n",
       "      <td>0.496803</td>\n",
       "      <td>0.598398</td>\n",
       "      <td>-0.239639</td>\n",
       "      <td>-0.139883</td>\n",
       "      <td>1.000000</td>\n",
       "    </tr>\n",
       "  </tbody>\n",
       "</table>\n",
       "</div>"
      ],
      "text/plain": [
       "                   MPG  Cylinders  Displacement  Horsepower    Weight  \\\n",
       "MPG           1.000000  -0.775396     -0.804203   -0.792918 -0.831741   \n",
       "Cylinders    -0.775396   1.000000      0.950721    0.867813  0.896017   \n",
       "Displacement -0.804203   0.950721      1.000000    0.904191  0.932824   \n",
       "Horsepower   -0.792918   0.867813      0.904191    1.000000  0.881944   \n",
       "Weight       -0.831741   0.896017      0.932824    0.881944  1.000000   \n",
       "Acceleration  0.413128  -0.510533     -0.540627   -0.683607 -0.425769   \n",
       "Model Year    0.579267  -0.348746     -0.370164   -0.411420 -0.306564   \n",
       "US Made      -0.568192   0.604351      0.651407    0.496803  0.598398   \n",
       "\n",
       "              Acceleration  Model Year   US Made  \n",
       "MPG               0.413128    0.579267 -0.568192  \n",
       "Cylinders        -0.510533   -0.348746  0.604351  \n",
       "Displacement     -0.540627   -0.370164  0.651407  \n",
       "Horsepower       -0.683607   -0.411420  0.496803  \n",
       "Weight           -0.425769   -0.306564  0.598398  \n",
       "Acceleration      1.000000    0.272241 -0.239639  \n",
       "Model Year        0.272241    1.000000 -0.139883  \n",
       "US Made          -0.239639   -0.139883  1.000000  "
      ]
     },
     "execution_count": 31,
     "metadata": {},
     "output_type": "execute_result"
    }
   ],
   "source": [
    "df.corr()"
   ]
  },
  {
   "cell_type": "code",
   "execution_count": 33,
   "id": "348796c8",
   "metadata": {},
   "outputs": [],
   "source": [
    "#Train Test Split \n",
    "# lets build our linear model\n",
    "# independant variables\n",
    "X = df.drop(['MPG','US Made'], axis=1)\n",
    "# the dependent variable\n",
    "y = df[['MPG']]"
   ]
  },
  {
   "cell_type": "code",
   "execution_count": 34,
   "id": "b13373ec",
   "metadata": {},
   "outputs": [],
   "source": [
    "from sklearn.model_selection import train_test_split"
   ]
  },
  {
   "cell_type": "code",
   "execution_count": 35,
   "id": "382e7f94",
   "metadata": {},
   "outputs": [],
   "source": [
    "# Split X and y into training and test set in 70:30 ratio\n",
    "\n",
    "x_train, x_test, y_train, y_test = train_test_split(X, y, test_size=0.30, random_state=1)"
   ]
  },
  {
   "cell_type": "code",
   "execution_count": 36,
   "id": "7a320993",
   "metadata": {},
   "outputs": [
    {
     "name": "stdout",
     "output_type": "stream",
     "text": [
      "(278, 6)\n",
      "(278, 1)\n",
      "(120, 6)\n",
      "(120, 1)\n"
     ]
    }
   ],
   "source": [
    "print(x_train.shape)\n",
    "print(y_train.shape)\n",
    "print(x_test.shape)\n",
    "print(y_test.shape)"
   ]
  },
  {
   "cell_type": "code",
   "execution_count": 37,
   "id": "a340949c",
   "metadata": {},
   "outputs": [],
   "source": [
    "from sklearn.linear_model import LinearRegression"
   ]
  },
  {
   "cell_type": "code",
   "execution_count": 38,
   "id": "02eed8ff",
   "metadata": {},
   "outputs": [
    {
     "data": {
      "text/plain": [
       "LinearRegression()"
      ]
     },
     "execution_count": 38,
     "metadata": {},
     "output_type": "execute_result"
    }
   ],
   "source": [
    "model = LinearRegression()\n",
    "model.fit(x_train, y_train)"
   ]
  },
  {
   "cell_type": "code",
   "execution_count": 39,
   "id": "eda1c9ce",
   "metadata": {},
   "outputs": [
    {
     "data": {
      "text/plain": [
       "0.8005704782204311"
      ]
     },
     "execution_count": 39,
     "metadata": {},
     "output_type": "execute_result"
    }
   ],
   "source": [
    "model.score(x_train, y_train)"
   ]
  },
  {
   "cell_type": "code",
   "execution_count": 40,
   "id": "69cbac51",
   "metadata": {},
   "outputs": [
    {
     "data": {
      "text/plain": [
       "0.8248237109245399"
      ]
     },
     "execution_count": 40,
     "metadata": {},
     "output_type": "execute_result"
    }
   ],
   "source": [
    "model.score(x_test, y_test)"
   ]
  },
  {
   "cell_type": "code",
   "execution_count": 41,
   "id": "83b72a69",
   "metadata": {},
   "outputs": [
    {
     "name": "stdout",
     "output_type": "stream",
     "text": [
      "The coefficient for Cylinders is -0.09269571480718149\n",
      "The coefficient for Displacement is 0.00887664140419911\n",
      "The coefficient for Horsepower is -0.027642132820495054\n",
      "The coefficient for Weight is -0.006637098434119248\n",
      "The coefficient for Acceleration is -0.10623560139321621\n",
      "The coefficient for Model Year is 0.7789040809918598\n"
     ]
    }
   ],
   "source": [
    "for idx, col_name in enumerate(x_train.columns):\n",
    "    print(\"The coefficient for {} is {}\".format(col_name, model.coef_[0][idx]))"
   ]
  },
  {
   "cell_type": "code",
   "execution_count": 42,
   "id": "81c94cbe",
   "metadata": {},
   "outputs": [
    {
     "name": "stdout",
     "output_type": "stream",
     "text": [
      "The intercept for our model is -12.573888761748275\n"
     ]
    }
   ],
   "source": [
    "intercept = model.intercept_[0]\n",
    "print(\"The intercept for our model is {}\".format(intercept))"
   ]
  },
  {
   "cell_type": "code",
   "execution_count": 43,
   "id": "7a2b1a8a",
   "metadata": {},
   "outputs": [],
   "source": [
    "y_train_predict = model.predict(x_train)"
   ]
  },
  {
   "cell_type": "code",
   "execution_count": 44,
   "id": "38504507",
   "metadata": {},
   "outputs": [
    {
     "name": "stderr",
     "output_type": "stream",
     "text": [
      "C:\\ProgramData\\Anaconda3\\lib\\site-packages\\seaborn\\distributions.py:2619: FutureWarning: `distplot` is a deprecated function and will be removed in a future version. Please adapt your code to use either `displot` (a figure-level function with similar flexibility) or `histplot` (an axes-level function for histograms).\n",
      "  warnings.warn(msg, FutureWarning)\n"
     ]
    },
    {
     "data": {
      "text/plain": [
       "Text(0.5, 0, 'Errors')"
      ]
     },
     "execution_count": 44,
     "metadata": {},
     "output_type": "execute_result"
    },
    {
     "data": {
      "image/png": "[encoded data removed]",
      "text/plain": [
       "<Figure size 432x288 with 1 Axes>"
      ]
     },
     "metadata": {
      "needs_background": "light"
     },
     "output_type": "display_data"
    }
   ],
   "source": [
    "# Plot the histogram of the error terms\n",
    "fig = plt.figure()\n",
    "sns.distplot((y_train - y_train_predict), bins = 20)\n",
    "fig.suptitle('Error Terms', fontsize = 20)                  # Plot heading \n",
    "plt.xlabel('Errors', fontsize = 18) "
   ]
  },
  {
   "cell_type": "code",
   "execution_count": 45,
   "id": "65a85fbd",
   "metadata": {},
   "outputs": [
    {
     "name": "stderr",
     "output_type": "stream",
     "text": [
      "C:\\ProgramData\\Anaconda3\\lib\\site-packages\\statsmodels\\tsa\\tsatools.py:142: FutureWarning: In a future version of pandas all arguments of concat except for the argument 'objs' will be keyword-only\n",
      "  x = pd.concat(x[::order], 1)\n"
     ]
    }
   ],
   "source": [
    "import statsmodels.api as sm\n",
    "x_train_lm = sm.add_constant(x_train)"
   ]
  },
  {
   "cell_type": "code",
   "execution_count": 46,
   "id": "6c9290c7",
   "metadata": {},
   "outputs": [
    {
     "data": {
      "text/html": [
       "<div>\n",
       "<style scoped>\n",
       "    .dataframe tbody tr th:only-of-type {\n",
       "        vertical-align: middle;\n",
       "    }\n",
       "\n",
       "    .dataframe tbody tr th {\n",
       "        vertical-align: top;\n",
       "    }\n",
       "\n",
       "    .dataframe thead th {\n",
       "        text-align: right;\n",
       "    }\n",
       "</style>\n",
       "<table border=\"1\" class=\"dataframe\">\n",
       "  <thead>\n",
       "    <tr style=\"text-align: right;\">\n",
       "      <th></th>\n",
       "      <th>const</th>\n",
       "      <th>Cylinders</th>\n",
       "      <th>Displacement</th>\n",
       "      <th>Horsepower</th>\n",
       "      <th>Weight</th>\n",
       "      <th>Acceleration</th>\n",
       "      <th>Model Year</th>\n",
       "    </tr>\n",
       "  </thead>\n",
       "  <tbody>\n",
       "    <tr>\n",
       "      <th>350</th>\n",
       "      <td>1.0</td>\n",
       "      <td>4</td>\n",
       "      <td>105.0</td>\n",
       "      <td>63.00</td>\n",
       "      <td>2215</td>\n",
       "      <td>14.900</td>\n",
       "      <td>81</td>\n",
       "    </tr>\n",
       "    <tr>\n",
       "      <th>59</th>\n",
       "      <td>1.0</td>\n",
       "      <td>4</td>\n",
       "      <td>97.0</td>\n",
       "      <td>60.85</td>\n",
       "      <td>2254</td>\n",
       "      <td>20.415</td>\n",
       "      <td>72</td>\n",
       "    </tr>\n",
       "    <tr>\n",
       "      <th>120</th>\n",
       "      <td>1.0</td>\n",
       "      <td>4</td>\n",
       "      <td>121.0</td>\n",
       "      <td>112.00</td>\n",
       "      <td>2868</td>\n",
       "      <td>15.500</td>\n",
       "      <td>73</td>\n",
       "    </tr>\n",
       "    <tr>\n",
       "      <th>12</th>\n",
       "      <td>1.0</td>\n",
       "      <td>8</td>\n",
       "      <td>400.0</td>\n",
       "      <td>150.00</td>\n",
       "      <td>3761</td>\n",
       "      <td>11.285</td>\n",
       "      <td>70</td>\n",
       "    </tr>\n",
       "    <tr>\n",
       "      <th>349</th>\n",
       "      <td>1.0</td>\n",
       "      <td>4</td>\n",
       "      <td>91.0</td>\n",
       "      <td>68.00</td>\n",
       "      <td>1985</td>\n",
       "      <td>16.000</td>\n",
       "      <td>81</td>\n",
       "    </tr>\n",
       "    <tr>\n",
       "      <th>...</th>\n",
       "      <td>...</td>\n",
       "      <td>...</td>\n",
       "      <td>...</td>\n",
       "      <td>...</td>\n",
       "      <td>...</td>\n",
       "      <td>...</td>\n",
       "      <td>...</td>\n",
       "    </tr>\n",
       "    <tr>\n",
       "      <th>393</th>\n",
       "      <td>1.0</td>\n",
       "      <td>4</td>\n",
       "      <td>140.0</td>\n",
       "      <td>86.00</td>\n",
       "      <td>2790</td>\n",
       "      <td>15.600</td>\n",
       "      <td>82</td>\n",
       "    </tr>\n",
       "    <tr>\n",
       "      <th>255</th>\n",
       "      <td>1.0</td>\n",
       "      <td>4</td>\n",
       "      <td>140.0</td>\n",
       "      <td>88.00</td>\n",
       "      <td>2720</td>\n",
       "      <td>15.400</td>\n",
       "      <td>78</td>\n",
       "    </tr>\n",
       "    <tr>\n",
       "      <th>72</th>\n",
       "      <td>1.0</td>\n",
       "      <td>8</td>\n",
       "      <td>304.0</td>\n",
       "      <td>150.00</td>\n",
       "      <td>3892</td>\n",
       "      <td>12.500</td>\n",
       "      <td>72</td>\n",
       "    </tr>\n",
       "    <tr>\n",
       "      <th>235</th>\n",
       "      <td>1.0</td>\n",
       "      <td>4</td>\n",
       "      <td>97.0</td>\n",
       "      <td>75.00</td>\n",
       "      <td>2265</td>\n",
       "      <td>18.200</td>\n",
       "      <td>77</td>\n",
       "    </tr>\n",
       "    <tr>\n",
       "      <th>37</th>\n",
       "      <td>1.0</td>\n",
       "      <td>6</td>\n",
       "      <td>232.0</td>\n",
       "      <td>100.00</td>\n",
       "      <td>3288</td>\n",
       "      <td>15.500</td>\n",
       "      <td>71</td>\n",
       "    </tr>\n",
       "  </tbody>\n",
       "</table>\n",
       "<p>278 rows × 7 columns</p>\n",
       "</div>"
      ],
      "text/plain": [
       "     const  Cylinders  Displacement  Horsepower  Weight  Acceleration  \\\n",
       "350    1.0          4         105.0       63.00    2215        14.900   \n",
       "59     1.0          4          97.0       60.85    2254        20.415   \n",
       "120    1.0          4         121.0      112.00    2868        15.500   \n",
       "12     1.0          8         400.0      150.00    3761        11.285   \n",
       "349    1.0          4          91.0       68.00    1985        16.000   \n",
       "..     ...        ...           ...         ...     ...           ...   \n",
       "393    1.0          4         140.0       86.00    2790        15.600   \n",
       "255    1.0          4         140.0       88.00    2720        15.400   \n",
       "72     1.0          8         304.0      150.00    3892        12.500   \n",
       "235    1.0          4          97.0       75.00    2265        18.200   \n",
       "37     1.0          6         232.0      100.00    3288        15.500   \n",
       "\n",
       "     Model Year  \n",
       "350          81  \n",
       "59           72  \n",
       "120          73  \n",
       "12           70  \n",
       "349          81  \n",
       "..          ...  \n",
       "393          82  \n",
       "255          78  \n",
       "72           72  \n",
       "235          77  \n",
       "37           71  \n",
       "\n",
       "[278 rows x 7 columns]"
      ]
     },
     "execution_count": 46,
     "metadata": {},
     "output_type": "execute_result"
    }
   ],
   "source": [
    "x_train_lm"
   ]
  },
  {
   "cell_type": "code",
   "execution_count": 47,
   "id": "e269fbf9",
   "metadata": {},
   "outputs": [],
   "source": [
    "result = sm.OLS(y_train, x_train_lm).fit()"
   ]
  },
  {
   "cell_type": "code",
   "execution_count": 48,
   "id": "4d476be4",
   "metadata": {},
   "outputs": [
    {
     "name": "stdout",
     "output_type": "stream",
     "text": [
      "                            OLS Regression Results                            \n",
      "==============================================================================\n",
      "Dep. Variable:                    MPG   R-squared:                       0.801\n",
      "Model:                            OLS   Adj. R-squared:                  0.796\n",
      "Method:                 Least Squares   F-statistic:                     181.3\n",
      "Date:                Fri, 03 Jun 2022   Prob (F-statistic):           7.98e-92\n",
      "Time:                        15:07:09   Log-Likelihood:                -743.98\n",
      "No. Observations:                 278   AIC:                             1502.\n",
      "Df Residuals:                     271   BIC:                             1527.\n",
      "Df Model:                           6                                         \n",
      "Covariance Type:            nonrobust                                         \n",
      "================================================================================\n",
      "                   coef    std err          t      P>|t|      [0.025      0.975]\n",
      "--------------------------------------------------------------------------------\n",
      "const          -12.5739      5.866     -2.143      0.033     -24.124      -1.024\n",
      "Cylinders       -0.0927      0.437     -0.212      0.832      -0.952       0.767\n",
      "Displacement     0.0089      0.009      0.943      0.346      -0.010       0.027\n",
      "Horsepower      -0.0276      0.019     -1.423      0.156      -0.066       0.011\n",
      "Weight          -0.0066      0.001     -7.535      0.000      -0.008      -0.005\n",
      "Acceleration    -0.1062      0.137     -0.776      0.438      -0.376       0.163\n",
      "Model Year       0.7789      0.064     12.190      0.000       0.653       0.905\n",
      "==============================================================================\n",
      "Omnibus:                       32.650   Durbin-Watson:                   2.229\n",
      "Prob(Omnibus):                  0.000   Jarque-Bera (JB):               54.033\n",
      "Skew:                           0.691   Prob(JB):                     1.85e-12\n",
      "Kurtosis:                       4.660   Cond. No.                     8.46e+04\n",
      "==============================================================================\n",
      "\n",
      "Notes:\n",
      "[1] Standard Errors assume that the covariance matrix of the errors is correctly specified.\n",
      "[2] The condition number is large, 8.46e+04. This might indicate that there are\n",
      "strong multicollinearity or other numerical problems.\n"
     ]
    }
   ],
   "source": [
    "print(result.summary())"
   ]
  },
  {
   "cell_type": "code",
   "execution_count": 49,
   "id": "55165466",
   "metadata": {},
   "outputs": [],
   "source": [
    "#splitting our data into training and test\n",
    "np.random.seed(42)\n",
    "X_train,X_test,y_train,y_test=train_test_split(X,y,test_size=0.2)"
   ]
  },
  {
   "cell_type": "code",
   "execution_count": 51,
   "id": "b247fb9e",
   "metadata": {},
   "outputs": [
    {
     "name": "stdout",
     "output_type": "stream",
     "text": [
      "Iteration:  0 Selected Variables:  ['Acceleration'] Lowest AIC: [2694.6547739465805]\n",
      "Iteration:  1 Selected Variables:  ['Acceleration', 'Displacement'] Lowest AIC: [2694.6547739465805, 2586.834458471374]\n",
      "Iteration:  2 Selected Variables:  ['Acceleration', 'Displacement', 'Model Year'] Lowest AIC: [2694.6547739465805, 2586.834458471374, 2244.157270447922]\n",
      "Iteration:  3 Selected Variables:  ['Acceleration', 'Displacement', 'Model Year', 'Weight'] Lowest AIC: [2694.6547739465805, 2586.834458471374, 2244.157270447922, 2129.222327705529]\n",
      "Iteration:  4 Selected Variables:  ['Acceleration', 'Displacement', 'Model Year', 'Weight', 'Horsepower'] Lowest AIC: [2694.6547739465805, 2586.834458471374, 2244.157270447922, 2129.222327705529, 2123.775738332243]\n",
      "Iteration:  5 Selected Variables:  ['Acceleration', 'Displacement', 'Model Year', 'Weight', 'Horsepower', 'Cylinders'] Lowest AIC: [2694.6547739465805, 2586.834458471374, 2244.157270447922, 2129.222327705529, 2123.775738332243, 2124.7357678107946]\n",
      "bestmodel_index: 4 bestmodel_variables: ['Acceleration', 'Displacement', 'Model Year', 'Weight', 'Horsepower']\n",
      "fifth_variable: Horsepower\n"
     ]
    }
   ],
   "source": [
    "from statsmodels.regression.linear_model import OLS\n",
    "\n",
    "bestModelsForEachIteration = []\n",
    "inputVariablesNames = list(X.columns)\n",
    "quantityOfInputVariables = len(inputVariablesNames)\n",
    "selectedVariables = []\n",
    "selectedAIC = []\n",
    "\n",
    "\n",
    "for iteration in range(quantityOfInputVariables):\n",
    "    bestCurrentModel = None\n",
    "    LowestCurrentAIC = 1e8\n",
    "    bestCurrentVariable = None\n",
    "    for inputVariableName in inputVariablesNames:\n",
    "        # fit model\n",
    "        regr_model = OLS(y, X[selectedVariables + [inputVariableName]]).fit()\n",
    "        # get the aic value\n",
    "        aic_model = regr_model.aic\n",
    "        # assign lowest aic_value and corresponding model and variables\n",
    "        if aic_model <= LowestCurrentAIC:\n",
    "            bestCurrentModel = regr_model\n",
    "            bestCurrentVariable = inputVariableName\n",
    "            LowestCurrentAIC = aic_model\n",
    "    # put the best parameters(aci,variables, model) into the corresponding list\n",
    "    bestModelsForEachIteration.append(bestCurrentModel)\n",
    "    selectedAIC.append(LowestCurrentAIC)\n",
    "    selectedVariables.append(bestCurrentVariable)\n",
    "    # remove the selected variable\n",
    "    inputVariablesNames.remove(bestCurrentVariable)\n",
    "    print('Iteration: ', iteration, 'Selected Variables: ', selectedVariables, 'Lowest AIC:', selectedAIC)\n",
    "\n",
    "# choose the lowest_aic_value model\n",
    "bestmodel_index_forward = selectedAIC.index(min(selectedAIC))\n",
    "bestmodel_model_forward = bestModelsForEachIteration[bestmodel_index_forward]\n",
    "bestmodel_variable_forward = selectedVariables[: bestmodel_index_forward+1]\n",
    "fifth_variable = selectedVariables[4]\n",
    "print(\"bestmodel_index:\", bestmodel_index_forward, \"bestmodel_variables:\",bestmodel_variable_forward)\n",
    "print(\"fifth_variable:\",fifth_variable)"
   ]
  },
  {
   "cell_type": "code",
   "execution_count": 55,
   "id": "1043f79f",
   "metadata": {},
   "outputs": [
    {
     "name": "stdout",
     "output_type": "stream",
     "text": [
      "Iteration:  0 Selected Variables:  ['Cylinders', 'Displacement', 'Horsepower', 'Weight', 'Acceleration', 'Model Year'] Lowest RMSE: [2.9971678141413665]\n",
      "Iteration:  1 Selected Variables:  ['Cylinders', 'Displacement', 'Horsepower', 'Weight', 'Model Year'] Lowest RMSE: [2.9971678141413665, 2.9909515794656203]\n",
      "Iteration:  2 Selected Variables:  ['Cylinders', 'Displacement', 'Weight', 'Model Year'] Lowest RMSE: [2.9971678141413665, 2.9909515794656203, 2.9988277147724465]\n",
      "Iteration:  3 Selected Variables:  ['Cylinders', 'Weight', 'Model Year'] Lowest RMSE: [2.9971678141413665, 2.9909515794656203, 2.9988277147724465, 3.009801421247317]\n",
      "Iteration:  4 Selected Variables:  ['Weight', 'Model Year'] Lowest RMSE: [2.9971678141413665, 2.9909515794656203, 2.9988277147724465, 3.009801421247317, 3.0232809507640965]\n",
      "Iteration:  5 Selected Variables:  ['Model Year'] Lowest RMSE: [2.9971678141413665, 2.9909515794656203, 2.9988277147724465, 3.009801421247317, 3.0232809507640965, 6.730384885597601]\n",
      "bestmodel_index: 0 bestmodel_variables: ['Cylinders', 'Displacement', 'Horsepower', 'Weight', 'Model Year']\n"
     ]
    }
   ],
   "source": [
    "from sklearn.metrics import r2_score,mean_absolute_error,mean_squared_error\n",
    "import math\n",
    "import copy\n",
    "\n",
    "bestModelsForEachIteration = []\n",
    "inputVariablesNames = list(X_train.columns)\n",
    "quantityOfInputVariables = len(inputVariablesNames)\n",
    "removedRMSE = []\n",
    "variable_lists = []\n",
    "\n",
    "for iteration in range(quantityOfInputVariables):\n",
    "    bestCurrentModel = None\n",
    "    LowestCurrentRMSE = 1e8\n",
    "    bestCurrentVariable = None\n",
    "    # first step: no removed variables\n",
    "    if iteration == 0:\n",
    "        # fit model\n",
    "        regr_model = OLS(y_train, X_train[inputVariablesNames]).fit()\n",
    "        # predict\n",
    "        l_preds=regr_model.predict(X_test[inputVariablesNames])\n",
    "        #evaluate our model's performance using root of mean squared error\n",
    "        mse=mean_squared_error(y_test,l_preds)\n",
    "        rmse=math.sqrt(mse)\n",
    "        # assign lowest aic_value and corresponding model and variables\n",
    "        if rmse <= LowestCurrentRMSE:\n",
    "            bestCurrentModel = regr_model\n",
    "            bestCurrentVariable = None\n",
    "            LowestCurrentRMSE = rmse\n",
    "    # if not first step, remove one variable\n",
    "    else:\n",
    "        for inputVariableName in inputVariablesNames:\n",
    "            copyVariables = copy.deepcopy(inputVariablesNames)\n",
    "            copyVariables.remove(inputVariableName)\n",
    "            # fit model\n",
    "            regr_model = OLS(y_train, X_train[copyVariables]).fit()\n",
    "            # predict\n",
    "            l_preds=regr_model.predict(X_test[copyVariables])\n",
    "            #evaluate our model's performance using mean squared error\n",
    "            mse=mean_squared_error(y_test,l_preds)\n",
    "            rmse=math.sqrt(mse)\n",
    "            # assign lowest aic_value and corresponding model and variables\n",
    "            if rmse <= LowestCurrentRMSE:\n",
    "                bestCurrentModel = regr_model\n",
    "                bestCurrentVariable = inputVariableName\n",
    "                LowestCurrentRMSE = rmse\n",
    "    # put the best parameters(aci,variables, model) into the corresponding list\n",
    "    bestModelsForEachIteration.append(bestCurrentModel)\n",
    "    removedRMSE.append(LowestCurrentRMSE)\n",
    "    # if not first step, remove one variable\n",
    "    if bestCurrentVariable:\n",
    "        inputVariablesNames.remove(bestCurrentVariable)\n",
    "        variable_list = copy.deepcopy(inputVariablesNames)\n",
    "        variable_lists.append(variable_list)\n",
    "    print('Iteration: ', iteration, 'Selected Variables: ', inputVariablesNames, 'Lowest RMSE:', removedRMSE)\n",
    "# choose the lowest_aic_value model\n",
    "bestmodel_index_backward = removedRMSE[-5:].index(min(removedRMSE[-5:]))\n",
    "bestmodel_model_backward = bestModelsForEachIteration[-5:][bestmodel_index_backward]\n",
    "bestmodel_variable_backward = variable_lists[-5:][bestmodel_index_backward]\n",
    "print(\"bestmodel_index:\", bestmodel_index_backward, \"bestmodel_variables:\",bestmodel_variable_backward)"
   ]
  },
  {
   "cell_type": "code",
   "execution_count": 56,
   "id": "0becbc93",
   "metadata": {},
   "outputs": [
    {
     "name": "stdout",
     "output_type": "stream",
     "text": [
      "bestmodel_index: 1 bestmodel_variables: ['Cylinders', 'Displacement', 'Weight', 'Model Year']\n"
     ]
    }
   ],
   "source": [
    "bestmodel_index_backward_nl = removedRMSE.index(min(removedRMSE))\n",
    "bestmodel_model_backward_nl = bestModelsForEachIteration[bestmodel_index_backward_nl]\n",
    "bestmodel_variable_backward_nl = variable_lists[bestmodel_index_backward_nl]\n",
    "print(\"bestmodel_index:\", bestmodel_index_backward_nl, \"bestmodel_variables:\",bestmodel_variable_backward_nl)"
   ]
  },
  {
   "cell_type": "code",
   "execution_count": 57,
   "id": "400943f3",
   "metadata": {},
   "outputs": [
    {
     "name": "stdout",
     "output_type": "stream",
     "text": [
      "bestmodel_variable_forward: ['Acceleration', 'Displacement', 'Model Year', 'Weight', 'Horsepower']\n",
      "bestmodel_variable_backward: ['Cylinders', 'Displacement', 'Weight', 'Model Year']\n",
      "intersection_variables: {'Model Year', 'Displacement', 'Weight'}\n"
     ]
    }
   ],
   "source": [
    "print(\"bestmodel_variable_forward:\", bestmodel_variable_forward)\n",
    "print(\"bestmodel_variable_backward:\", bestmodel_variable_backward_nl)\n",
    "# get the intersection of two best models(forward-stepwise and backward-stepwise)\n",
    "intersection_variables = set(bestmodel_variable_forward).intersection(set(bestmodel_variable_backward_nl))\n",
    "print('intersection_variables:', intersection_variables)"
   ]
  }
 ],
 "metadata": {
  "kernelspec": {
   "display_name": "Python 3 (ipykernel)",
   "language": "python",
   "name": "python3"
  },
  "language_info": {
   "codemirror_mode": {
    "name": "ipython",
    "version": 3
   },
   "file_extension": ".py",
   "mimetype": "text/x-python",
   "name": "python",
   "nbconvert_exporter": "python",
   "pygments_lexer": "ipython3",
   "version": "3.9.7"
  }
 },
 "nbformat": 4,
 "nbformat_minor": 5
}
